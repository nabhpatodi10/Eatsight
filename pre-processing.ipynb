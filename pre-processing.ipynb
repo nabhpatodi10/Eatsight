{
 "cells": [
  {
   "cell_type": "markdown",
   "id": "2436f473",
   "metadata": {},
   "source": [
    "## Imports"
   ]
  },
  {
   "cell_type": "code",
   "execution_count": 1,
   "id": "518eaa4e",
   "metadata": {},
   "outputs": [],
   "source": [
    "import pandas as pd\n",
    "import seaborn as sns\n",
    "import warnings\n",
    "warnings.filterwarnings(\"ignore\", category=FutureWarning)\n",
    "warnings.filterwarnings(\"ignore\", category=UserWarning)"
   ]
  },
  {
   "cell_type": "markdown",
   "id": "933bb365",
   "metadata": {},
   "source": [
    "## Load Dataset"
   ]
  },
  {
   "cell_type": "code",
   "execution_count": 2,
   "id": "ebdf4398",
   "metadata": {},
   "outputs": [
    {
     "data": {
      "text/html": [
       "<div>\n",
       "<style scoped>\n",
       "    .dataframe tbody tr th:only-of-type {\n",
       "        vertical-align: middle;\n",
       "    }\n",
       "\n",
       "    .dataframe tbody tr th {\n",
       "        vertical-align: top;\n",
       "    }\n",
       "\n",
       "    .dataframe thead th {\n",
       "        text-align: right;\n",
       "    }\n",
       "</style>\n",
       "<table border=\"1\" class=\"dataframe\">\n",
       "  <thead>\n",
       "    <tr style=\"text-align: right;\">\n",
       "      <th></th>\n",
       "      <th>id</th>\n",
       "      <th>position</th>\n",
       "      <th>name</th>\n",
       "      <th>score</th>\n",
       "      <th>ratings</th>\n",
       "      <th>category</th>\n",
       "      <th>price_range</th>\n",
       "      <th>full_address</th>\n",
       "      <th>zip_code</th>\n",
       "      <th>lat</th>\n",
       "      <th>lng</th>\n",
       "    </tr>\n",
       "  </thead>\n",
       "  <tbody>\n",
       "    <tr>\n",
       "      <th>0</th>\n",
       "      <td>1</td>\n",
       "      <td>19</td>\n",
       "      <td>PJ Fresh (224 Daniel Payne Drive)</td>\n",
       "      <td>NaN</td>\n",
       "      <td>NaN</td>\n",
       "      <td>Burgers, American, Sandwiches</td>\n",
       "      <td>$</td>\n",
       "      <td>224 Daniel Payne Drive, Birmingham, AL, 35207</td>\n",
       "      <td>35207</td>\n",
       "      <td>33.562365</td>\n",
       "      <td>-86.830703</td>\n",
       "    </tr>\n",
       "    <tr>\n",
       "      <th>1</th>\n",
       "      <td>2</td>\n",
       "      <td>9</td>\n",
       "      <td>J' ti`'z Smoothie-N-Coffee Bar</td>\n",
       "      <td>NaN</td>\n",
       "      <td>NaN</td>\n",
       "      <td>Coffee and Tea, Breakfast and Brunch, Bubble Tea</td>\n",
       "      <td>NaN</td>\n",
       "      <td>1521 Pinson Valley Parkway, Birmingham, AL, 35217</td>\n",
       "      <td>35217</td>\n",
       "      <td>33.583640</td>\n",
       "      <td>-86.773330</td>\n",
       "    </tr>\n",
       "    <tr>\n",
       "      <th>2</th>\n",
       "      <td>3</td>\n",
       "      <td>6</td>\n",
       "      <td>Philly Fresh Cheesesteaks (541-B Graymont Ave)</td>\n",
       "      <td>NaN</td>\n",
       "      <td>NaN</td>\n",
       "      <td>American, Cheesesteak, Sandwiches, Alcohol</td>\n",
       "      <td>$</td>\n",
       "      <td>541-B Graymont Ave, Birmingham, AL, 35204</td>\n",
       "      <td>35204</td>\n",
       "      <td>33.509800</td>\n",
       "      <td>-86.854640</td>\n",
       "    </tr>\n",
       "    <tr>\n",
       "      <th>3</th>\n",
       "      <td>4</td>\n",
       "      <td>17</td>\n",
       "      <td>Papa Murphy's (1580 Montgomery Highway)</td>\n",
       "      <td>NaN</td>\n",
       "      <td>NaN</td>\n",
       "      <td>Pizza</td>\n",
       "      <td>$</td>\n",
       "      <td>1580 Montgomery Highway, Hoover, AL, 35226</td>\n",
       "      <td>35226</td>\n",
       "      <td>33.404439</td>\n",
       "      <td>-86.806614</td>\n",
       "    </tr>\n",
       "    <tr>\n",
       "      <th>4</th>\n",
       "      <td>5</td>\n",
       "      <td>162</td>\n",
       "      <td>Nelson Brothers Cafe (17th St N)</td>\n",
       "      <td>4.7</td>\n",
       "      <td>22.0</td>\n",
       "      <td>Breakfast and Brunch, Burgers, Sandwiches</td>\n",
       "      <td>NaN</td>\n",
       "      <td>314 17th St N, Birmingham, AL, 35203</td>\n",
       "      <td>35203</td>\n",
       "      <td>33.514730</td>\n",
       "      <td>-86.811700</td>\n",
       "    </tr>\n",
       "  </tbody>\n",
       "</table>\n",
       "</div>"
      ],
      "text/plain": [
       "   id  position                                            name  score  \\\n",
       "0   1        19               PJ Fresh (224 Daniel Payne Drive)    NaN   \n",
       "1   2         9                  J' ti`'z Smoothie-N-Coffee Bar    NaN   \n",
       "2   3         6  Philly Fresh Cheesesteaks (541-B Graymont Ave)    NaN   \n",
       "3   4        17         Papa Murphy's (1580 Montgomery Highway)    NaN   \n",
       "4   5       162                Nelson Brothers Cafe (17th St N)    4.7   \n",
       "\n",
       "   ratings                                          category price_range  \\\n",
       "0      NaN                     Burgers, American, Sandwiches           $   \n",
       "1      NaN  Coffee and Tea, Breakfast and Brunch, Bubble Tea         NaN   \n",
       "2      NaN        American, Cheesesteak, Sandwiches, Alcohol           $   \n",
       "3      NaN                                             Pizza           $   \n",
       "4     22.0         Breakfast and Brunch, Burgers, Sandwiches         NaN   \n",
       "\n",
       "                                        full_address zip_code        lat  \\\n",
       "0      224 Daniel Payne Drive, Birmingham, AL, 35207    35207  33.562365   \n",
       "1  1521 Pinson Valley Parkway, Birmingham, AL, 35217    35217  33.583640   \n",
       "2          541-B Graymont Ave, Birmingham, AL, 35204    35204  33.509800   \n",
       "3         1580 Montgomery Highway, Hoover, AL, 35226    35226  33.404439   \n",
       "4               314 17th St N, Birmingham, AL, 35203    35203  33.514730   \n",
       "\n",
       "         lng  \n",
       "0 -86.830703  \n",
       "1 -86.773330  \n",
       "2 -86.854640  \n",
       "3 -86.806614  \n",
       "4 -86.811700  "
      ]
     },
     "execution_count": 2,
     "metadata": {},
     "output_type": "execute_result"
    }
   ],
   "source": [
    "restaurants = pd.read_csv('restaurants.csv')\n",
    "restaurants.head()"
   ]
  },
  {
   "cell_type": "code",
   "execution_count": 3,
   "id": "ba0cc941",
   "metadata": {},
   "outputs": [
    {
     "data": {
      "text/html": [
       "<div>\n",
       "<style scoped>\n",
       "    .dataframe tbody tr th:only-of-type {\n",
       "        vertical-align: middle;\n",
       "    }\n",
       "\n",
       "    .dataframe tbody tr th {\n",
       "        vertical-align: top;\n",
       "    }\n",
       "\n",
       "    .dataframe thead th {\n",
       "        text-align: right;\n",
       "    }\n",
       "</style>\n",
       "<table border=\"1\" class=\"dataframe\">\n",
       "  <thead>\n",
       "    <tr style=\"text-align: right;\">\n",
       "      <th></th>\n",
       "      <th>restaurant_id</th>\n",
       "      <th>category</th>\n",
       "      <th>name</th>\n",
       "      <th>description</th>\n",
       "      <th>price</th>\n",
       "    </tr>\n",
       "  </thead>\n",
       "  <tbody>\n",
       "    <tr>\n",
       "      <th>0</th>\n",
       "      <td>1</td>\n",
       "      <td>Extra Large Pizza</td>\n",
       "      <td>Extra Large Meat Lovers</td>\n",
       "      <td>Whole pie.</td>\n",
       "      <td>15.99 USD</td>\n",
       "    </tr>\n",
       "    <tr>\n",
       "      <th>1</th>\n",
       "      <td>1</td>\n",
       "      <td>Extra Large Pizza</td>\n",
       "      <td>Extra Large Supreme</td>\n",
       "      <td>Whole pie.</td>\n",
       "      <td>15.99 USD</td>\n",
       "    </tr>\n",
       "    <tr>\n",
       "      <th>2</th>\n",
       "      <td>1</td>\n",
       "      <td>Extra Large Pizza</td>\n",
       "      <td>Extra Large Pepperoni</td>\n",
       "      <td>Whole pie.</td>\n",
       "      <td>14.99 USD</td>\n",
       "    </tr>\n",
       "    <tr>\n",
       "      <th>3</th>\n",
       "      <td>1</td>\n",
       "      <td>Extra Large Pizza</td>\n",
       "      <td>Extra Large BBQ Chicken &amp;amp; Bacon</td>\n",
       "      <td>Whole Pie</td>\n",
       "      <td>15.99 USD</td>\n",
       "    </tr>\n",
       "    <tr>\n",
       "      <th>4</th>\n",
       "      <td>1</td>\n",
       "      <td>Extra Large Pizza</td>\n",
       "      <td>Extra Large 5 Cheese</td>\n",
       "      <td>Whole pie.</td>\n",
       "      <td>14.99 USD</td>\n",
       "    </tr>\n",
       "  </tbody>\n",
       "</table>\n",
       "</div>"
      ],
      "text/plain": [
       "   restaurant_id           category                                 name  \\\n",
       "0              1  Extra Large Pizza              Extra Large Meat Lovers   \n",
       "1              1  Extra Large Pizza                  Extra Large Supreme   \n",
       "2              1  Extra Large Pizza                Extra Large Pepperoni   \n",
       "3              1  Extra Large Pizza  Extra Large BBQ Chicken &amp; Bacon   \n",
       "4              1  Extra Large Pizza                 Extra Large 5 Cheese   \n",
       "\n",
       "  description      price  \n",
       "0  Whole pie.  15.99 USD  \n",
       "1  Whole pie.  15.99 USD  \n",
       "2  Whole pie.  14.99 USD  \n",
       "3   Whole Pie  15.99 USD  \n",
       "4  Whole pie.  14.99 USD  "
      ]
     },
     "execution_count": 3,
     "metadata": {},
     "output_type": "execute_result"
    }
   ],
   "source": [
    "menus = pd.read_csv('restaurant-menus.csv')\n",
    "menus.head()"
   ]
  },
  {
   "cell_type": "markdown",
   "id": "0621029d",
   "metadata": {},
   "source": [
    "## Dataset Information"
   ]
  },
  {
   "cell_type": "code",
   "execution_count": 4,
   "id": "6189cd32",
   "metadata": {},
   "outputs": [
    {
     "name": "stdout",
     "output_type": "stream",
     "text": [
      "<class 'pandas.core.frame.DataFrame'>\n",
      "RangeIndex: 63469 entries, 0 to 63468\n",
      "Data columns (total 11 columns):\n",
      " #   Column        Non-Null Count  Dtype  \n",
      "---  ------        --------------  -----  \n",
      " 0   id            63469 non-null  int64  \n",
      " 1   position      63469 non-null  int64  \n",
      " 2   name          63469 non-null  object \n",
      " 3   score         35302 non-null  float64\n",
      " 4   ratings       35302 non-null  float64\n",
      " 5   category      63384 non-null  object \n",
      " 6   price_range   52852 non-null  object \n",
      " 7   full_address  63016 non-null  object \n",
      " 8   zip_code      62952 non-null  object \n",
      " 9   lat           63469 non-null  float64\n",
      " 10  lng           63469 non-null  float64\n",
      "dtypes: float64(4), int64(2), object(5)\n",
      "memory usage: 5.3+ MB\n"
     ]
    }
   ],
   "source": [
    "restaurants.info()"
   ]
  },
  {
   "cell_type": "code",
   "execution_count": 5,
   "id": "dc541b20",
   "metadata": {},
   "outputs": [
    {
     "name": "stdout",
     "output_type": "stream",
     "text": [
      "<class 'pandas.core.frame.DataFrame'>\n",
      "RangeIndex: 5117217 entries, 0 to 5117216\n",
      "Data columns (total 5 columns):\n",
      " #   Column         Dtype \n",
      "---  ------         ----- \n",
      " 0   restaurant_id  int64 \n",
      " 1   category       object\n",
      " 2   name           object\n",
      " 3   description    object\n",
      " 4   price          object\n",
      "dtypes: int64(1), object(4)\n",
      "memory usage: 195.2+ MB\n"
     ]
    }
   ],
   "source": [
    "menus.info()"
   ]
  },
  {
   "cell_type": "code",
   "execution_count": 6,
   "id": "2867ecec",
   "metadata": {},
   "outputs": [
    {
     "data": {
      "text/plain": [
       "id                  0\n",
       "position            0\n",
       "name                0\n",
       "score           28167\n",
       "ratings         28167\n",
       "category           85\n",
       "price_range     10617\n",
       "full_address      453\n",
       "zip_code          517\n",
       "lat                 0\n",
       "lng                 0\n",
       "dtype: int64"
      ]
     },
     "execution_count": 6,
     "metadata": {},
     "output_type": "execute_result"
    }
   ],
   "source": [
    "restaurants.isnull().sum()"
   ]
  },
  {
   "cell_type": "code",
   "execution_count": 7,
   "id": "ad6e3962",
   "metadata": {},
   "outputs": [
    {
     "data": {
      "text/plain": [
       "restaurant_id          0\n",
       "category               0\n",
       "name                   4\n",
       "description      1452145\n",
       "price                  0\n",
       "dtype: int64"
      ]
     },
     "execution_count": 7,
     "metadata": {},
     "output_type": "execute_result"
    }
   ],
   "source": [
    "menus.isnull().sum()"
   ]
  },
  {
   "cell_type": "code",
   "execution_count": 8,
   "id": "74a87a03",
   "metadata": {},
   "outputs": [
    {
     "data": {
      "text/html": [
       "<div>\n",
       "<style scoped>\n",
       "    .dataframe tbody tr th:only-of-type {\n",
       "        vertical-align: middle;\n",
       "    }\n",
       "\n",
       "    .dataframe tbody tr th {\n",
       "        vertical-align: top;\n",
       "    }\n",
       "\n",
       "    .dataframe thead th {\n",
       "        text-align: right;\n",
       "    }\n",
       "</style>\n",
       "<table border=\"1\" class=\"dataframe\">\n",
       "  <thead>\n",
       "    <tr style=\"text-align: right;\">\n",
       "      <th></th>\n",
       "      <th>id</th>\n",
       "      <th>position</th>\n",
       "      <th>score</th>\n",
       "      <th>ratings</th>\n",
       "      <th>lat</th>\n",
       "      <th>lng</th>\n",
       "    </tr>\n",
       "  </thead>\n",
       "  <tbody>\n",
       "    <tr>\n",
       "      <th>count</th>\n",
       "      <td>63469.000000</td>\n",
       "      <td>63469.000000</td>\n",
       "      <td>35302.000000</td>\n",
       "      <td>35302.000000</td>\n",
       "      <td>63469.000000</td>\n",
       "      <td>63469.000000</td>\n",
       "    </tr>\n",
       "    <tr>\n",
       "      <th>mean</th>\n",
       "      <td>31735.000000</td>\n",
       "      <td>86.692102</td>\n",
       "      <td>4.551431</td>\n",
       "      <td>74.887060</td>\n",
       "      <td>36.585019</td>\n",
       "      <td>-96.715114</td>\n",
       "    </tr>\n",
       "    <tr>\n",
       "      <th>std</th>\n",
       "      <td>18322.066455</td>\n",
       "      <td>79.280129</td>\n",
       "      <td>0.300675</td>\n",
       "      <td>69.874057</td>\n",
       "      <td>6.458959</td>\n",
       "      <td>14.438166</td>\n",
       "    </tr>\n",
       "    <tr>\n",
       "      <th>min</th>\n",
       "      <td>1.000000</td>\n",
       "      <td>1.000000</td>\n",
       "      <td>1.300000</td>\n",
       "      <td>10.000000</td>\n",
       "      <td>0.000000</td>\n",
       "      <td>-123.841240</td>\n",
       "    </tr>\n",
       "    <tr>\n",
       "      <th>25%</th>\n",
       "      <td>15868.000000</td>\n",
       "      <td>18.000000</td>\n",
       "      <td>4.400000</td>\n",
       "      <td>25.000000</td>\n",
       "      <td>30.442221</td>\n",
       "      <td>-98.569760</td>\n",
       "    </tr>\n",
       "    <tr>\n",
       "      <th>50%</th>\n",
       "      <td>31735.000000</td>\n",
       "      <td>61.000000</td>\n",
       "      <td>4.600000</td>\n",
       "      <td>52.000000</td>\n",
       "      <td>34.707265</td>\n",
       "      <td>-96.764330</td>\n",
       "    </tr>\n",
       "    <tr>\n",
       "      <th>75%</th>\n",
       "      <td>47602.000000</td>\n",
       "      <td>141.000000</td>\n",
       "      <td>4.800000</td>\n",
       "      <td>100.000000</td>\n",
       "      <td>40.884903</td>\n",
       "      <td>-87.938729</td>\n",
       "    </tr>\n",
       "    <tr>\n",
       "      <th>max</th>\n",
       "      <td>63469.000000</td>\n",
       "      <td>300.000000</td>\n",
       "      <td>5.000000</td>\n",
       "      <td>500.000000</td>\n",
       "      <td>48.963950</td>\n",
       "      <td>0.000000</td>\n",
       "    </tr>\n",
       "  </tbody>\n",
       "</table>\n",
       "</div>"
      ],
      "text/plain": [
       "                 id      position         score       ratings           lat  \\\n",
       "count  63469.000000  63469.000000  35302.000000  35302.000000  63469.000000   \n",
       "mean   31735.000000     86.692102      4.551431     74.887060     36.585019   \n",
       "std    18322.066455     79.280129      0.300675     69.874057      6.458959   \n",
       "min        1.000000      1.000000      1.300000     10.000000      0.000000   \n",
       "25%    15868.000000     18.000000      4.400000     25.000000     30.442221   \n",
       "50%    31735.000000     61.000000      4.600000     52.000000     34.707265   \n",
       "75%    47602.000000    141.000000      4.800000    100.000000     40.884903   \n",
       "max    63469.000000    300.000000      5.000000    500.000000     48.963950   \n",
       "\n",
       "                lng  \n",
       "count  63469.000000  \n",
       "mean     -96.715114  \n",
       "std       14.438166  \n",
       "min     -123.841240  \n",
       "25%      -98.569760  \n",
       "50%      -96.764330  \n",
       "75%      -87.938729  \n",
       "max        0.000000  "
      ]
     },
     "execution_count": 8,
     "metadata": {},
     "output_type": "execute_result"
    }
   ],
   "source": [
    "restaurants.describe()"
   ]
  },
  {
   "cell_type": "code",
   "execution_count": 9,
   "id": "5060b736",
   "metadata": {},
   "outputs": [
    {
     "data": {
      "text/html": [
       "<div>\n",
       "<style scoped>\n",
       "    .dataframe tbody tr th:only-of-type {\n",
       "        vertical-align: middle;\n",
       "    }\n",
       "\n",
       "    .dataframe tbody tr th {\n",
       "        vertical-align: top;\n",
       "    }\n",
       "\n",
       "    .dataframe thead th {\n",
       "        text-align: right;\n",
       "    }\n",
       "</style>\n",
       "<table border=\"1\" class=\"dataframe\">\n",
       "  <thead>\n",
       "    <tr style=\"text-align: right;\">\n",
       "      <th></th>\n",
       "      <th>restaurant_id</th>\n",
       "    </tr>\n",
       "  </thead>\n",
       "  <tbody>\n",
       "    <tr>\n",
       "      <th>count</th>\n",
       "      <td>5.117217e+06</td>\n",
       "    </tr>\n",
       "    <tr>\n",
       "      <th>mean</th>\n",
       "      <td>3.090644e+04</td>\n",
       "    </tr>\n",
       "    <tr>\n",
       "      <th>std</th>\n",
       "      <td>1.824669e+04</td>\n",
       "    </tr>\n",
       "    <tr>\n",
       "      <th>min</th>\n",
       "      <td>1.000000e+00</td>\n",
       "    </tr>\n",
       "    <tr>\n",
       "      <th>25%</th>\n",
       "      <td>1.589300e+04</td>\n",
       "    </tr>\n",
       "    <tr>\n",
       "      <th>50%</th>\n",
       "      <td>2.927300e+04</td>\n",
       "    </tr>\n",
       "    <tr>\n",
       "      <th>75%</th>\n",
       "      <td>4.664700e+04</td>\n",
       "    </tr>\n",
       "    <tr>\n",
       "      <th>max</th>\n",
       "      <td>6.346900e+04</td>\n",
       "    </tr>\n",
       "  </tbody>\n",
       "</table>\n",
       "</div>"
      ],
      "text/plain": [
       "       restaurant_id\n",
       "count   5.117217e+06\n",
       "mean    3.090644e+04\n",
       "std     1.824669e+04\n",
       "min     1.000000e+00\n",
       "25%     1.589300e+04\n",
       "50%     2.927300e+04\n",
       "75%     4.664700e+04\n",
       "max     6.346900e+04"
      ]
     },
     "execution_count": 9,
     "metadata": {},
     "output_type": "execute_result"
    }
   ],
   "source": [
    "menus.describe()"
   ]
  },
  {
   "cell_type": "code",
   "execution_count": 10,
   "id": "054d0615",
   "metadata": {},
   "outputs": [
    {
     "data": {
      "text/plain": [
       "(63469, 11)"
      ]
     },
     "execution_count": 10,
     "metadata": {},
     "output_type": "execute_result"
    }
   ],
   "source": [
    "restaurants.shape"
   ]
  },
  {
   "cell_type": "code",
   "execution_count": 11,
   "id": "d6407328",
   "metadata": {},
   "outputs": [
    {
     "data": {
      "text/plain": [
       "(5117217, 5)"
      ]
     },
     "execution_count": 11,
     "metadata": {},
     "output_type": "execute_result"
    }
   ],
   "source": [
    "menus.shape"
   ]
  },
  {
   "cell_type": "markdown",
   "id": "c8bc9fa0",
   "metadata": {},
   "source": [
    "## Reshaping the Dataset"
   ]
  },
  {
   "cell_type": "code",
   "execution_count": 12,
   "id": "53ab7a6d",
   "metadata": {},
   "outputs": [],
   "source": [
    "restaurants.drop(columns=['full_address', 'zip_code'], inplace=True)"
   ]
  },
  {
   "cell_type": "markdown",
   "id": "8a96a110",
   "metadata": {},
   "source": [
    "## Analysing Values"
   ]
  },
  {
   "cell_type": "code",
   "execution_count": 13,
   "id": "a014241b",
   "metadata": {},
   "outputs": [
    {
     "data": {
      "text/plain": [
       "price_range\n",
       "$                    37637\n",
       "$$                   14952\n",
       "$$$                    237\n",
       "$$$$                    25\n",
       "$$$$$$$$$$$$$$$$$        1\n",
       "Name: count, dtype: int64"
      ]
     },
     "execution_count": 13,
     "metadata": {},
     "output_type": "execute_result"
    }
   ],
   "source": [
    "restaurants['price_range'].value_counts()"
   ]
  },
  {
   "cell_type": "code",
   "execution_count": 14,
   "id": "452198ae",
   "metadata": {},
   "outputs": [
    {
     "data": {
      "text/plain": [
       "name\n",
       "Bottled Water                        6598\n",
       "French Fries                         5493\n",
       "Sprite                               3997\n",
       "Diet Coke                            3694\n",
       "Iced Tea                             3299\n",
       "                                     ... \n",
       "Aquafina Water\\r\\n                      1\n",
       "Dasani Water\\r\\n                        1\n",
       "Smart Water\\r\\n                         1\n",
       "Coca Cola en Latta                      1\n",
       "Celsius Sparkling Watermelon 12oz       1\n",
       "Name: count, Length: 380275, dtype: int64"
      ]
     },
     "execution_count": 14,
     "metadata": {},
     "output_type": "execute_result"
    }
   ],
   "source": [
    "menus[menus['description'].isnull()]['name'].value_counts()"
   ]
  },
  {
   "cell_type": "code",
   "execution_count": 15,
   "id": "d76b4431",
   "metadata": {},
   "outputs": [
    {
     "data": {
      "text/plain": [
       "category\n",
       "Tacos      2\n",
       "Sauces*    1\n",
       "Bites      1\n",
       "Name: count, dtype: int64"
      ]
     },
     "execution_count": 15,
     "metadata": {},
     "output_type": "execute_result"
    }
   ],
   "source": [
    "menus[menus['name'].isnull()]['category'].value_counts()"
   ]
  },
  {
   "cell_type": "markdown",
   "id": "b3c3c5e8",
   "metadata": {},
   "source": [
    "## Cleaning the Dataset"
   ]
  },
  {
   "cell_type": "code",
   "execution_count": 16,
   "id": "06048087",
   "metadata": {},
   "outputs": [],
   "source": [
    "restaurants['price_range'].replace(\"$\", 1, inplace=True)\n",
    "restaurants['price_range'].replace(\"$$\", 2, inplace=True)\n",
    "restaurants['price_range'].replace(\"$$$\", 3, inplace=True)\n",
    "restaurants['price_range'].replace(\"$$$$\", 4, inplace=True)\n",
    "restaurants['price_range'].replace(\"$$$$$$$$$$$$$$$$$\", 5, inplace=True)"
   ]
  },
  {
   "cell_type": "code",
   "execution_count": 17,
   "id": "0221205f",
   "metadata": {},
   "outputs": [
    {
     "data": {
      "text/plain": [
       "price_range\n",
       "1.0    37637\n",
       "2.0    14952\n",
       "3.0      237\n",
       "4.0       25\n",
       "5.0        1\n",
       "Name: count, dtype: int64"
      ]
     },
     "execution_count": 17,
     "metadata": {},
     "output_type": "execute_result"
    }
   ],
   "source": [
    "restaurants['price_range'].value_counts()"
   ]
  },
  {
   "cell_type": "code",
   "execution_count": 18,
   "id": "47733862",
   "metadata": {},
   "outputs": [],
   "source": [
    "menus['price'] = menus['price'].astype(str).str.replace(\"USD\", \"\").str.strip().astype(float)"
   ]
  },
  {
   "cell_type": "code",
   "execution_count": 19,
   "id": "9384a0da",
   "metadata": {},
   "outputs": [],
   "source": [
    "restaurants[\"name\"] = restaurants[\"name\"].str.lower().str.strip()\n",
    "restaurants[\"category\"] = restaurants[\"category\"].str.lower().str.strip()"
   ]
  },
  {
   "cell_type": "code",
   "execution_count": 20,
   "id": "92e6fa38",
   "metadata": {},
   "outputs": [],
   "source": [
    "menus[\"name\"] = menus[\"name\"].str.lower().str.strip()\n",
    "menus[\"category\"] = menus[\"category\"].str.lower().str.strip()\n",
    "menus[\"description\"] = menus[\"description\"].str.lower().str.strip()"
   ]
  },
  {
   "cell_type": "markdown",
   "id": "e788034b",
   "metadata": {},
   "source": [
    "## Handling Missing or Null Values"
   ]
  },
  {
   "cell_type": "code",
   "execution_count": 21,
   "id": "2ef625e7",
   "metadata": {},
   "outputs": [],
   "source": [
    "restaurants['price_range_missing'] = restaurants['price_range'].isnull().astype(int)\n",
    "restaurants['price_range'].fillna(2, inplace=True)"
   ]
  },
  {
   "cell_type": "code",
   "execution_count": 22,
   "id": "85c2355a",
   "metadata": {},
   "outputs": [],
   "source": [
    "restaurants['ratings_missing'] = restaurants['ratings'].isnull().astype(int)\n",
    "restaurants['ratings'].fillna(-1, inplace=True)"
   ]
  },
  {
   "cell_type": "code",
   "execution_count": 23,
   "id": "17519b83",
   "metadata": {},
   "outputs": [],
   "source": [
    "restaurants['score_missing'] = restaurants['score'].isnull().astype(int)\n",
    "restaurants['score'].fillna(0, inplace=True)"
   ]
  },
  {
   "cell_type": "code",
   "execution_count": 24,
   "id": "58274d43",
   "metadata": {},
   "outputs": [],
   "source": [
    "restaurants['category'].fillna(\"others\", inplace=True)"
   ]
  },
  {
   "cell_type": "code",
   "execution_count": 25,
   "id": "315daff2",
   "metadata": {},
   "outputs": [],
   "source": [
    "menus['description_missing'] = menus['description'].isnull().astype(int)\n",
    "menus['description'].fillna(\"\", inplace=True)"
   ]
  },
  {
   "cell_type": "code",
   "execution_count": 26,
   "id": "769232be",
   "metadata": {},
   "outputs": [],
   "source": [
    "menus.dropna(subset=['name'], inplace=True)"
   ]
  },
  {
   "cell_type": "markdown",
   "id": "8424ce8a",
   "metadata": {},
   "source": [
    "## Handling Outliers"
   ]
  },
  {
   "cell_type": "code",
   "execution_count": 27,
   "id": "21768acc",
   "metadata": {},
   "outputs": [],
   "source": [
    "restaurants['price_range'].replace(5.0, 4.0, inplace=True)"
   ]
  },
  {
   "cell_type": "markdown",
   "id": "fef74e79",
   "metadata": {},
   "source": [
    "## Final Dataset"
   ]
  },
  {
   "cell_type": "code",
   "execution_count": 28,
   "id": "98ee61a0",
   "metadata": {},
   "outputs": [
    {
     "data": {
      "text/plain": [
       "id                     0\n",
       "position               0\n",
       "name                   0\n",
       "score                  0\n",
       "ratings                0\n",
       "category               0\n",
       "price_range            0\n",
       "lat                    0\n",
       "lng                    0\n",
       "price_range_missing    0\n",
       "ratings_missing        0\n",
       "score_missing          0\n",
       "dtype: int64"
      ]
     },
     "execution_count": 28,
     "metadata": {},
     "output_type": "execute_result"
    }
   ],
   "source": [
    "restaurants.isnull().sum()"
   ]
  },
  {
   "cell_type": "code",
   "execution_count": 29,
   "id": "3af555b4",
   "metadata": {},
   "outputs": [
    {
     "data": {
      "text/plain": [
       "restaurant_id          0\n",
       "category               0\n",
       "name                   0\n",
       "description            0\n",
       "price                  0\n",
       "description_missing    0\n",
       "dtype: int64"
      ]
     },
     "execution_count": 29,
     "metadata": {},
     "output_type": "execute_result"
    }
   ],
   "source": [
    "menus.isnull().sum()"
   ]
  },
  {
   "cell_type": "code",
   "execution_count": 30,
   "id": "7904bbec",
   "metadata": {},
   "outputs": [
    {
     "data": {
      "text/plain": [
       "(63469, 12)"
      ]
     },
     "execution_count": 30,
     "metadata": {},
     "output_type": "execute_result"
    }
   ],
   "source": [
    "restaurants.shape"
   ]
  },
  {
   "cell_type": "code",
   "execution_count": 31,
   "id": "874f33d5",
   "metadata": {},
   "outputs": [
    {
     "data": {
      "text/plain": [
       "(5117213, 6)"
      ]
     },
     "execution_count": 31,
     "metadata": {},
     "output_type": "execute_result"
    }
   ],
   "source": [
    "menus.shape"
   ]
  },
  {
   "cell_type": "code",
   "execution_count": 32,
   "id": "95328be4",
   "metadata": {},
   "outputs": [
    {
     "data": {
      "text/html": [
       "<div>\n",
       "<style scoped>\n",
       "    .dataframe tbody tr th:only-of-type {\n",
       "        vertical-align: middle;\n",
       "    }\n",
       "\n",
       "    .dataframe tbody tr th {\n",
       "        vertical-align: top;\n",
       "    }\n",
       "\n",
       "    .dataframe thead th {\n",
       "        text-align: right;\n",
       "    }\n",
       "</style>\n",
       "<table border=\"1\" class=\"dataframe\">\n",
       "  <thead>\n",
       "    <tr style=\"text-align: right;\">\n",
       "      <th></th>\n",
       "      <th>id</th>\n",
       "      <th>position</th>\n",
       "      <th>name</th>\n",
       "      <th>score</th>\n",
       "      <th>ratings</th>\n",
       "      <th>category</th>\n",
       "      <th>price_range</th>\n",
       "      <th>lat</th>\n",
       "      <th>lng</th>\n",
       "      <th>price_range_missing</th>\n",
       "      <th>ratings_missing</th>\n",
       "      <th>score_missing</th>\n",
       "    </tr>\n",
       "  </thead>\n",
       "  <tbody>\n",
       "    <tr>\n",
       "      <th>0</th>\n",
       "      <td>1</td>\n",
       "      <td>19</td>\n",
       "      <td>pj fresh (224 daniel payne drive)</td>\n",
       "      <td>0.0</td>\n",
       "      <td>-1.0</td>\n",
       "      <td>burgers, american, sandwiches</td>\n",
       "      <td>1.0</td>\n",
       "      <td>33.562365</td>\n",
       "      <td>-86.830703</td>\n",
       "      <td>0</td>\n",
       "      <td>1</td>\n",
       "      <td>1</td>\n",
       "    </tr>\n",
       "    <tr>\n",
       "      <th>1</th>\n",
       "      <td>2</td>\n",
       "      <td>9</td>\n",
       "      <td>j' ti`'z smoothie-n-coffee bar</td>\n",
       "      <td>0.0</td>\n",
       "      <td>-1.0</td>\n",
       "      <td>coffee and tea, breakfast and brunch, bubble tea</td>\n",
       "      <td>2.0</td>\n",
       "      <td>33.583640</td>\n",
       "      <td>-86.773330</td>\n",
       "      <td>1</td>\n",
       "      <td>1</td>\n",
       "      <td>1</td>\n",
       "    </tr>\n",
       "    <tr>\n",
       "      <th>2</th>\n",
       "      <td>3</td>\n",
       "      <td>6</td>\n",
       "      <td>philly fresh cheesesteaks (541-b graymont ave)</td>\n",
       "      <td>0.0</td>\n",
       "      <td>-1.0</td>\n",
       "      <td>american, cheesesteak, sandwiches, alcohol</td>\n",
       "      <td>1.0</td>\n",
       "      <td>33.509800</td>\n",
       "      <td>-86.854640</td>\n",
       "      <td>0</td>\n",
       "      <td>1</td>\n",
       "      <td>1</td>\n",
       "    </tr>\n",
       "    <tr>\n",
       "      <th>3</th>\n",
       "      <td>4</td>\n",
       "      <td>17</td>\n",
       "      <td>papa murphy's (1580 montgomery highway)</td>\n",
       "      <td>0.0</td>\n",
       "      <td>-1.0</td>\n",
       "      <td>pizza</td>\n",
       "      <td>1.0</td>\n",
       "      <td>33.404439</td>\n",
       "      <td>-86.806614</td>\n",
       "      <td>0</td>\n",
       "      <td>1</td>\n",
       "      <td>1</td>\n",
       "    </tr>\n",
       "    <tr>\n",
       "      <th>4</th>\n",
       "      <td>5</td>\n",
       "      <td>162</td>\n",
       "      <td>nelson brothers cafe (17th st n)</td>\n",
       "      <td>4.7</td>\n",
       "      <td>22.0</td>\n",
       "      <td>breakfast and brunch, burgers, sandwiches</td>\n",
       "      <td>2.0</td>\n",
       "      <td>33.514730</td>\n",
       "      <td>-86.811700</td>\n",
       "      <td>1</td>\n",
       "      <td>0</td>\n",
       "      <td>0</td>\n",
       "    </tr>\n",
       "  </tbody>\n",
       "</table>\n",
       "</div>"
      ],
      "text/plain": [
       "   id  position                                            name  score  \\\n",
       "0   1        19               pj fresh (224 daniel payne drive)    0.0   \n",
       "1   2         9                  j' ti`'z smoothie-n-coffee bar    0.0   \n",
       "2   3         6  philly fresh cheesesteaks (541-b graymont ave)    0.0   \n",
       "3   4        17         papa murphy's (1580 montgomery highway)    0.0   \n",
       "4   5       162                nelson brothers cafe (17th st n)    4.7   \n",
       "\n",
       "   ratings                                          category  price_range  \\\n",
       "0     -1.0                     burgers, american, sandwiches          1.0   \n",
       "1     -1.0  coffee and tea, breakfast and brunch, bubble tea          2.0   \n",
       "2     -1.0        american, cheesesteak, sandwiches, alcohol          1.0   \n",
       "3     -1.0                                             pizza          1.0   \n",
       "4     22.0         breakfast and brunch, burgers, sandwiches          2.0   \n",
       "\n",
       "         lat        lng  price_range_missing  ratings_missing  score_missing  \n",
       "0  33.562365 -86.830703                    0                1              1  \n",
       "1  33.583640 -86.773330                    1                1              1  \n",
       "2  33.509800 -86.854640                    0                1              1  \n",
       "3  33.404439 -86.806614                    0                1              1  \n",
       "4  33.514730 -86.811700                    1                0              0  "
      ]
     },
     "execution_count": 32,
     "metadata": {},
     "output_type": "execute_result"
    }
   ],
   "source": [
    "restaurants.head()"
   ]
  },
  {
   "cell_type": "code",
   "execution_count": 33,
   "id": "54f32764",
   "metadata": {},
   "outputs": [
    {
     "data": {
      "text/html": [
       "<div>\n",
       "<style scoped>\n",
       "    .dataframe tbody tr th:only-of-type {\n",
       "        vertical-align: middle;\n",
       "    }\n",
       "\n",
       "    .dataframe tbody tr th {\n",
       "        vertical-align: top;\n",
       "    }\n",
       "\n",
       "    .dataframe thead th {\n",
       "        text-align: right;\n",
       "    }\n",
       "</style>\n",
       "<table border=\"1\" class=\"dataframe\">\n",
       "  <thead>\n",
       "    <tr style=\"text-align: right;\">\n",
       "      <th></th>\n",
       "      <th>restaurant_id</th>\n",
       "      <th>category</th>\n",
       "      <th>name</th>\n",
       "      <th>description</th>\n",
       "      <th>price</th>\n",
       "      <th>description_missing</th>\n",
       "    </tr>\n",
       "  </thead>\n",
       "  <tbody>\n",
       "    <tr>\n",
       "      <th>0</th>\n",
       "      <td>1</td>\n",
       "      <td>extra large pizza</td>\n",
       "      <td>extra large meat lovers</td>\n",
       "      <td>whole pie.</td>\n",
       "      <td>15.99</td>\n",
       "      <td>0</td>\n",
       "    </tr>\n",
       "    <tr>\n",
       "      <th>1</th>\n",
       "      <td>1</td>\n",
       "      <td>extra large pizza</td>\n",
       "      <td>extra large supreme</td>\n",
       "      <td>whole pie.</td>\n",
       "      <td>15.99</td>\n",
       "      <td>0</td>\n",
       "    </tr>\n",
       "    <tr>\n",
       "      <th>2</th>\n",
       "      <td>1</td>\n",
       "      <td>extra large pizza</td>\n",
       "      <td>extra large pepperoni</td>\n",
       "      <td>whole pie.</td>\n",
       "      <td>14.99</td>\n",
       "      <td>0</td>\n",
       "    </tr>\n",
       "    <tr>\n",
       "      <th>3</th>\n",
       "      <td>1</td>\n",
       "      <td>extra large pizza</td>\n",
       "      <td>extra large bbq chicken &amp;amp; bacon</td>\n",
       "      <td>whole pie</td>\n",
       "      <td>15.99</td>\n",
       "      <td>0</td>\n",
       "    </tr>\n",
       "    <tr>\n",
       "      <th>4</th>\n",
       "      <td>1</td>\n",
       "      <td>extra large pizza</td>\n",
       "      <td>extra large 5 cheese</td>\n",
       "      <td>whole pie.</td>\n",
       "      <td>14.99</td>\n",
       "      <td>0</td>\n",
       "    </tr>\n",
       "  </tbody>\n",
       "</table>\n",
       "</div>"
      ],
      "text/plain": [
       "   restaurant_id           category                                 name  \\\n",
       "0              1  extra large pizza              extra large meat lovers   \n",
       "1              1  extra large pizza                  extra large supreme   \n",
       "2              1  extra large pizza                extra large pepperoni   \n",
       "3              1  extra large pizza  extra large bbq chicken &amp; bacon   \n",
       "4              1  extra large pizza                 extra large 5 cheese   \n",
       "\n",
       "  description  price  description_missing  \n",
       "0  whole pie.  15.99                    0  \n",
       "1  whole pie.  15.99                    0  \n",
       "2  whole pie.  14.99                    0  \n",
       "3   whole pie  15.99                    0  \n",
       "4  whole pie.  14.99                    0  "
      ]
     },
     "execution_count": 33,
     "metadata": {},
     "output_type": "execute_result"
    }
   ],
   "source": [
    "menus.head()"
   ]
  },
  {
   "cell_type": "markdown",
   "id": "a7ce25b9",
   "metadata": {},
   "source": [
    "## Data Visualisation"
   ]
  },
  {
   "cell_type": "code",
   "execution_count": 34,
   "id": "1fdc6d27",
   "metadata": {},
   "outputs": [
    {
     "data": {
      "text/plain": [
       "<Axes: title={'center': 'Top 10 Restaurants by Name'}, ylabel='name'>"
      ]
     },
     "execution_count": 34,
     "metadata": {},
     "output_type": "execute_result"
    },
    {
     "data": {
      "image/png": "[encoded data removed]",
      "text/plain": [
       "<Figure size 1000x500 with 1 Axes>"
      ]
     },
     "metadata": {},
     "output_type": "display_data"
    }
   ],
   "source": [
    "restaurants['name'].value_counts(ascending=False)[:10].plot(kind='barh', figsize=(10, 5), color='skyblue', title='Top 10 Restaurants by Name')"
   ]
  },
  {
   "cell_type": "code",
   "execution_count": 35,
   "id": "5615926d",
   "metadata": {},
   "outputs": [
    {
     "data": {
      "text/plain": [
       "<Axes: title={'center': 'Top 10 Restaurants with Most Menu Items'}, ylabel='restaurant_id'>"
      ]
     },
     "execution_count": 35,
     "metadata": {},
     "output_type": "execute_result"
    },
    {
     "data": {
      "image/png": "[encoded data removed]",
      "text/plain": [
       "<Figure size 1000x500 with 1 Axes>"
      ]
     },
     "metadata": {},
     "output_type": "display_data"
    }
   ],
   "source": [
    "menu_counts = menus['restaurant_id'].value_counts().head(10)\n",
    "\n",
    "id_to_name = restaurants.set_index('id')['name'].to_dict()\n",
    "menu_counts.index = menu_counts.index.map(id_to_name)\n",
    "\n",
    "menu_counts.plot(kind='barh', figsize=(10, 5), color='skyblue', title='Top 10 Restaurants with Most Menu Items')"
   ]
  },
  {
   "cell_type": "code",
   "execution_count": 36,
   "id": "b0298562",
   "metadata": {},
   "outputs": [],
   "source": [
    "restaurants.to_csv('restaurants_cleaned.csv', index=False)\n",
    "menus.to_csv('restaurant-menus_cleaned.csv', index=False)"
   ]
  }
 ],
 "metadata": {
  "kernelspec": {
   "display_name": "Python 3",
   "language": "python",
   "name": "python3"
  },
  "language_info": {
   "codemirror_mode": {
    "name": "ipython",
    "version": 3
   },
   "file_extension": ".py",
   "mimetype": "text/x-python",
   "name": "python",
   "nbconvert_exporter": "python",
   "pygments_lexer": "ipython3",
   "version": "3.12.7"
  }
 },
 "nbformat": 4,
 "nbformat_minor": 5
}
