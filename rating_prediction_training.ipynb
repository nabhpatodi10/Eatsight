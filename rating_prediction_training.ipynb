{
 "cells": [
  {
   "cell_type": "code",
   "execution_count": 1,
   "id": "ad1110d5",
   "metadata": {},
   "outputs": [],
   "source": [
    "import os\n",
    "import numpy as np\n",
    "import pandas as pd\n",
    "from catboost import CatBoostRegressor, Pool\n",
    "from sklearn.model_selection import train_test_split\n",
    "from sklearn.metrics import mean_squared_error\n",
    "import joblib"
   ]
  },
  {
   "cell_type": "code",
   "execution_count": 2,
   "id": "e9e0952b",
   "metadata": {},
   "outputs": [],
   "source": [
    "DATA_FILE = \"restaurants_cleaned.csv\"\n",
    "PASS1_MODEL_OUT = \"catboost_restaurant_score_pass1.cbm\"\n",
    "FINAL_MODEL_OUT = \"catboost_restaurant_score_final.cbm\"\n",
    "PSEUDO_LABEL_WEIGHT = 0.0\n",
    "RANDOM_STATE = 42"
   ]
  },
  {
   "cell_type": "code",
   "execution_count": 3,
   "id": "1234d029",
   "metadata": {},
   "outputs": [],
   "source": [
    "df = pd.read_csv(DATA_FILE)"
   ]
  },
  {
   "cell_type": "code",
   "execution_count": 4,
   "id": "584cccdf",
   "metadata": {},
   "outputs": [],
   "source": [
    "cat_cols = [\"category\"]\n",
    "num_cols = [\n",
    "    \"price_range\", \"price_range_missing\",\n",
    "    \"ratings\", \"ratings_missing\"\n",
    "]\n",
    "feat_cols = cat_cols + num_cols"
   ]
  },
  {
   "cell_type": "code",
   "execution_count": 5,
   "id": "2b7b929b",
   "metadata": {},
   "outputs": [],
   "source": [
    "mask_labeled = df[\"score_missing\"] == 0\n",
    "labeled_df   = df[mask_labeled].copy()\n",
    "\n",
    "X_lab = labeled_df[feat_cols]\n",
    "y_lab = labeled_df[\"score\"]\n",
    "\n",
    "# value counts of each category among *labeled* rows\n",
    "vc = labeled_df['category'].value_counts()\n",
    "\n",
    "# categories that appear only once\n",
    "rare_cats = vc[vc < 2].index\n",
    "\n",
    "# new column where singletons are grouped under 'other'\n",
    "strat_col = labeled_df['category'].where(~labeled_df['category'].isin(rare_cats), 'other')\n",
    "\n",
    "X_train, X_val, y_train, y_val = train_test_split(\n",
    "    X_lab, y_lab, test_size=0.2, random_state=RANDOM_STATE,\n",
    "    stratify=strat_col\n",
    ")\n",
    "\n",
    "train_pool = Pool(X_train, y_train, cat_features=cat_cols)\n",
    "val_pool   = Pool(X_val,   y_val,   cat_features=cat_cols)"
   ]
  },
  {
   "cell_type": "code",
   "execution_count": 6,
   "id": "ce68b80b",
   "metadata": {},
   "outputs": [
    {
     "name": "stdout",
     "output_type": "stream",
     "text": [
      "=== Pass 1: training on labeled subset ===\n",
      "0:\tlearn: 0.2986664\ttest: 0.2970655\tbest: 0.2970655 (0)\ttotal: 187ms\tremaining: 3m 44s\n",
      "200:\tlearn: 0.2694855\ttest: 0.2657767\tbest: 0.2657489 (155)\ttotal: 9.99s\tremaining: 49.6s\n",
      "Stopped by overfitting detector  (50 iterations wait)\n",
      "\n",
      "bestTest = 0.2657488896\n",
      "bestIteration = 155\n",
      "\n",
      "Shrink model to first 156 iterations.\n",
      "Pass‑1 RMSE (labeled val): 0.2657\n"
     ]
    }
   ],
   "source": [
    "print(\"=== Pass 1: training on labeled subset ===\")\n",
    "pass1 = CatBoostRegressor(\n",
    "    iterations=1200,\n",
    "    depth=8,\n",
    "    learning_rate=0.05,\n",
    "    loss_function=\"RMSE\",\n",
    "    eval_metric=\"RMSE\",\n",
    "    random_seed=RANDOM_STATE,\n",
    "    verbose=200,\n",
    "    early_stopping_rounds=50,\n",
    ")\n",
    "\n",
    "pass1.fit(train_pool, eval_set=val_pool, use_best_model=True)\n",
    "rmse_pass1 = pass1.get_best_score()[\"validation\"][\"RMSE\"]\n",
    "print(f\"Pass‑1 RMSE (labeled val): {rmse_pass1:.4f}\")"
   ]
  },
  {
   "cell_type": "code",
   "execution_count": 7,
   "id": "2c8bdd5e",
   "metadata": {},
   "outputs": [],
   "source": [
    "mask_unlabeled = df[\"score_missing\"] == 1\n",
    "if mask_unlabeled.sum() == 0:\n",
    "    raise ValueError(\"No rows with missing score found! Check preprocessing.\")\n",
    "\n",
    "pseudo_preds = pass1.predict(Pool(df.loc[mask_unlabeled, feat_cols],\n",
    "                                  cat_features=cat_cols))\n",
    "df.loc[mask_unlabeled, \"pseudo_score\"] = pseudo_preds"
   ]
  },
  {
   "cell_type": "code",
   "execution_count": 8,
   "id": "e8d01c3a",
   "metadata": {},
   "outputs": [],
   "source": [
    "df[\"y_final\"] = np.where(mask_unlabeled, df[\"pseudo_score\"], df[\"score\"])\n",
    "sample_weight = np.where(mask_unlabeled, PSEUDO_LABEL_WEIGHT, 1.0)\n",
    "\n",
    "final_pool = Pool(\n",
    "    df[feat_cols],\n",
    "    df[\"y_final\"],\n",
    "    weight=sample_weight,\n",
    "    cat_features=cat_cols\n",
    ")\n",
    "\n",
    "# Use same validation set (real labels only) to measure improvement\n",
    "val_pool_final = Pool(X_val, y_val, cat_features=cat_cols)"
   ]
  },
  {
   "cell_type": "code",
   "execution_count": 9,
   "id": "61468c02",
   "metadata": {},
   "outputs": [
    {
     "name": "stdout",
     "output_type": "stream",
     "text": [
      "\n",
      "=== Pass 2: self‑training on full dataset ===\n",
      "0:\tlearn: 0.2982571\ttest: 0.2963249\tbest: 0.2963249 (0)\ttotal: 64.2ms\tremaining: 1m 16s\n",
      "200:\tlearn: 0.2641020\ttest: 0.2448732\tbest: 0.2448732 (200)\ttotal: 11.9s\tremaining: 59.1s\n",
      "400:\tlearn: 0.2601285\ttest: 0.2421610\tbest: 0.2421426 (399)\ttotal: 24.6s\tremaining: 49s\n",
      "600:\tlearn: 0.2573473\ttest: 0.2409663\tbest: 0.2409663 (600)\ttotal: 37.5s\tremaining: 37.4s\n",
      "800:\tlearn: 0.2549590\ttest: 0.2398192\tbest: 0.2398192 (800)\ttotal: 49.7s\tremaining: 24.7s\n",
      "1000:\tlearn: 0.2529475\ttest: 0.2390777\tbest: 0.2390777 (1000)\ttotal: 1m 1s\tremaining: 12.3s\n",
      "1199:\tlearn: 0.2511576\ttest: 0.2384928\tbest: 0.2384871 (1194)\ttotal: 1m 13s\tremaining: 0us\n",
      "\n",
      "bestTest = 0.2384870845\n",
      "bestIteration = 1194\n",
      "\n",
      "Shrink model to first 1195 iterations.\n",
      "Final RMSE (labeled val): 0.2385   |  Gain: +0.0273\n"
     ]
    }
   ],
   "source": [
    "print(\"\\n=== Pass 2: self‑training on full dataset ===\")\n",
    "final = CatBoostRegressor(\n",
    "    iterations=1200,\n",
    "    depth=8,\n",
    "    learning_rate=0.05,\n",
    "    loss_function=\"RMSE\",\n",
    "    eval_metric=\"RMSE\",\n",
    "    random_seed=RANDOM_STATE,\n",
    "    verbose=200,\n",
    "    early_stopping_rounds=50,\n",
    ")\n",
    "\n",
    "final.fit(final_pool, eval_set=val_pool_final, use_best_model=True)\n",
    "rmse_final = final.get_best_score()[\"validation\"][\"RMSE\"]\n",
    "print(f\"Final RMSE (labeled val): {rmse_final:.4f}   |  Gain: {rmse_pass1 - rmse_final:+.4f}\")\n",
    "\n",
    "final.save_model(FINAL_MODEL_OUT)"
   ]
  },
  {
   "cell_type": "code",
   "execution_count": 10,
   "id": "74b3bf78",
   "metadata": {},
   "outputs": [
    {
     "name": "stdout",
     "output_type": "stream",
     "text": [
      "\n",
      "Artifacts written:\n",
      "  • catboost_restaurant_score_pass1.cbm\n",
      "  • catboost_restaurant_score_final.cbm\n",
      "  • restaurants_with_pseudo_scores.csv\n"
     ]
    }
   ],
   "source": [
    "df.to_csv(\"restaurants_with_pseudo_scores.csv\", index=False)\n",
    "print(\"\\nArtifacts written:\")\n",
    "print(f\"  • {PASS1_MODEL_OUT}\")\n",
    "print(f\"  • {FINAL_MODEL_OUT}\")\n",
    "print(\"  • restaurants_with_pseudo_scores.csv\")"
   ]
  }
 ],
 "metadata": {
  "kernelspec": {
   "display_name": "Python 3",
   "language": "python",
   "name": "python3"
  },
  "language_info": {
   "codemirror_mode": {
    "name": "ipython",
    "version": 3
   },
   "file_extension": ".py",
   "mimetype": "text/x-python",
   "name": "python",
   "nbconvert_exporter": "python",
   "pygments_lexer": "ipython3",
   "version": "3.12.7"
  }
 },
 "nbformat": 4,
 "nbformat_minor": 5
}
